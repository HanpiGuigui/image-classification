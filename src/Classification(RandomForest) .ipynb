{
 "cells": [
  {
   "metadata": {
    "ExecuteTime": {
     "end_time": "2024-11-08T03:49:38.170874Z",
     "start_time": "2024-11-08T03:49:38.163363Z"
    }
   },
   "cell_type": "code",
   "source": [
    "\n",
    "import os\n",
    "from PIL import Image\n",
    "import numpy as np"
   ],
   "id": "10a5f17ab2b22223",
   "outputs": [],
   "execution_count": 4
  },
  {
   "metadata": {
    "ExecuteTime": {
     "end_time": "2024-11-08T03:49:38.186061Z",
     "start_time": "2024-11-08T03:49:38.173053Z"
    }
   },
   "cell_type": "code",
   "source": [
    "print(\"Preparing data...\")\n",
    "def resize_image(image, target_size=(224, 224)):\n",
    "    return image.resize(target_size)\n",
    "\n",
    "\n",
    "def normalize(image):\n",
    "    image = image.convert('RGB')\n",
    "    return np.array(image)\n"
   ],
   "id": "e69bd28bfda79dd6",
   "outputs": [
    {
     "name": "stdout",
     "output_type": "stream",
     "text": [
      "Preparing data...\n"
     ]
    }
   ],
   "execution_count": 5
  },
  {
   "metadata": {
    "ExecuteTime": {
     "end_time": "2024-11-08T03:50:20.098004Z",
     "start_time": "2024-11-08T03:49:38.188053Z"
    }
   },
   "cell_type": "code",
   "source": [
    "buildings_images = []\n",
    "for image_name in os.listdir('../data/b'):\n",
    "    image = Image.open('../data/b/' + image_name)\n",
    "    image_resized = resize_image(image, target_size=(224, 224))\n",
    "    buildings_images.append(normalize(image_resized))\n",
    "\n",
    "plants_images = []\n",
    "for image_name in os.listdir('../data/p'):\n",
    "    image = Image.open('../data/p/' + image_name)\n",
    "    image_resized = resize_image(image, target_size=(224, 224))\n",
    "    plants_images.append(normalize(image_resized))\n"
   ],
   "id": "ed3e94726573ee91",
   "outputs": [],
   "execution_count": 6
  },
  {
   "metadata": {
    "ExecuteTime": {
     "end_time": "2024-11-08T03:50:20.130009Z",
     "start_time": "2024-11-08T03:50:20.099011Z"
    }
   },
   "cell_type": "code",
   "source": [
    "buildings_features = [img.flatten() for img in buildings_images]\n",
    "plants_features = [img.flatten() for img in plants_images]\n"
   ],
   "id": "ea4f72911fe5b65e",
   "outputs": [],
   "execution_count": 7
  },
  {
   "metadata": {
    "ExecuteTime": {
     "end_time": "2024-11-08T03:50:21.327314Z",
     "start_time": "2024-11-08T03:50:20.132009Z"
    }
   },
   "cell_type": "code",
   "source": [
    "\n",
    "from sklearn.model_selection import train_test_split\n"
   ],
   "id": "11d0015e1114320b",
   "outputs": [],
   "execution_count": 8
  },
  {
   "metadata": {
    "ExecuteTime": {
     "end_time": "2024-11-08T03:50:21.359316Z",
     "start_time": "2024-11-08T03:50:21.328315Z"
    }
   },
   "cell_type": "code",
   "source": [
    "X = np.array(buildings_features + plants_features)\n",
    "y = np.array([1] * len(buildings_features) + [0] * len(plants_features))\n",
    "X_train, X_test, y_train, y_test = train_test_split(X, y, test_size=0.2, random_state=42)\n",
    "print(\"Data preparation complete!\")"
   ],
   "id": "9a4d6f06e0c68e1b",
   "outputs": [
    {
     "name": "stdout",
     "output_type": "stream",
     "text": [
      "Data preparation complete!\n"
     ]
    }
   ],
   "execution_count": 9
  },
  {
   "metadata": {
    "ExecuteTime": {
     "end_time": "2024-11-08T03:50:21.606796Z",
     "start_time": "2024-11-08T03:50:21.362316Z"
    }
   },
   "cell_type": "code",
   "source": [
    "\n",
    "from sklearn.ensemble import RandomForestClassifier\n"
   ],
   "id": "be073f5d5366f804",
   "outputs": [],
   "execution_count": 10
  },
  {
   "metadata": {
    "ExecuteTime": {
     "end_time": "2024-11-08T03:50:24.882146Z",
     "start_time": "2024-11-08T03:50:21.607794Z"
    }
   },
   "cell_type": "code",
   "source": [
    "print(\"Training model...\")\n",
    "model = RandomForestClassifier(n_estimators=100, random_state=42)\n",
    "model.fit(X_train, y_train)\n",
    "print(\"Model trained!\")"
   ],
   "id": "5a61d076731560aa",
   "outputs": [
    {
     "name": "stdout",
     "output_type": "stream",
     "text": [
      "Training model...\n",
      "Model trained!\n"
     ]
    }
   ],
   "execution_count": 11
  },
  {
   "metadata": {
    "ExecuteTime": {
     "end_time": "2024-11-08T03:50:24.928663Z",
     "start_time": "2024-11-08T03:50:24.884145Z"
    }
   },
   "cell_type": "code",
   "source": [
    "from sklearn.metrics import accuracy_score, classification_report\n",
    "y_pred = model.predict(X_test)\n",
    "print(\"Accuracy: \", accuracy_score(y_test, y_pred))\n",
    "print(classification_report(y_test, y_pred))\n"
   ],
   "id": "f1e9b5f4e994ab17",
   "outputs": [
    {
     "name": "stdout",
     "output_type": "stream",
     "text": [
      "Accuracy:  0.6851851851851852\n",
      "              precision    recall  f1-score   support\n",
      "\n",
      "           0       0.64      0.72      0.68        25\n",
      "           1       0.73      0.66      0.69        29\n",
      "\n",
      "    accuracy                           0.69        54\n",
      "   macro avg       0.69      0.69      0.69        54\n",
      "weighted avg       0.69      0.69      0.69        54\n",
      "\n"
     ]
    }
   ],
   "execution_count": 12
  }
 ],
 "metadata": {
  "kernelspec": {
   "display_name": "Python 3",
   "language": "python",
   "name": "python3"
  },
  "language_info": {
   "codemirror_mode": {
    "name": "ipython",
    "version": 2
   },
   "file_extension": ".py",
   "mimetype": "text/x-python",
   "name": "python",
   "nbconvert_exporter": "python",
   "pygments_lexer": "ipython2",
   "version": "2.7.6"
  }
 },
 "nbformat": 4,
 "nbformat_minor": 5
}
